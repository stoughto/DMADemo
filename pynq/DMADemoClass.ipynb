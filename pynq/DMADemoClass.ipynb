{
 "cells": [
  {
   "cell_type": "markdown",
   "id": "deade809-d311-46b1-8b3f-9f159ccf89cf",
   "metadata": {},
   "source": [
    "Demonstrate how to use this design.  A single AXI Direct Memory Access has send and receive channels enabled.  After receiving a buffer, it is routed to the AXI4-Stream Data FIFO, which routes it to the send channel.\n",
    "\n",
    "On the PS side, the class DMADemo defines shared memory fixed to the transfer size of an int16 array.\n",
    "\n",
    "This notebook demonstration has these steps:\n",
    "* Define the class:  use the largest transferSize that works.\n",
    "* Send and receive one time:  define unique values in the array, send it, receive it, and verify that the values are identical\n",
    "* Send and receive multiple times:  change the values each time and verify values\n",
    "* Estimate bandwidth:  Eliminate calls to np.array_equiv to meaure \"only\" transfers.  On the ZCU111 this gets an aggregate speed (write+read) of 56 M Bytes/sec.\n",
    "* Demonstrate FIFO:  use a small array_size and send 100 unique arrays.  Then, read them bac and check values.\n",
    "\n",
    "If transferSize is 2**15 or larger, you get an error like this:\n",
    "\n",
    "ValueError: Transfer size is 67108864 bytes, which exceeds the maximum DMA buffer size 67108863.\n",
    "\n"
   ]
  },
  {
   "cell_type": "code",
   "execution_count": null,
   "id": "a4066ee1-022b-4731-bd34-a17ae6e50b4a",
   "metadata": {},
   "outputs": [],
   "source": [
    "from pynq import Overlay, allocate\n",
    "import numpy as np\n",
    "import datetime"
   ]
  },
  {
   "cell_type": "markdown",
   "id": "a48fb201-adf0-45f4-9dbb-dedfdcb0888c",
   "metadata": {},
   "source": [
    "### Define the class"
   ]
  },
  {
   "cell_type": "code",
   "execution_count": null,
   "id": "063c9524-12ff-4bb6-8bc9-59c0214005d9",
   "metadata": {},
   "outputs": [],
   "source": [
    "class DMADemo:\n",
    "    def __init__(self, transferSize=2**14):\n",
    "        self.overlay = Overlay('DMADemo.bit')\n",
    "        self.send = self.overlay.dma.sendchannel\n",
    "        self.recv = self.overlay.dma.recvchannel\n",
    "        self.sb = allocate(shape=(transferSize,), dtype=np.int16)\n",
    "        #self.rb = allocate(shape=(transferSize,), dtype=np.int16)\n",
    "        self.rb = self.sb\n",
    "        self.transferSize = transferSize\n",
    "    def sendData(self,data):\n",
    "        if len(data) != self.transferSize:\n",
    "            raise ValueError(\"len(data)=%d is not transferSize=%d\"%(len(data),self.transferSize))\n",
    "        np.copyto(self.sb, data)\n",
    "        self.send.transfer(self.sb)\n",
    "        \n",
    "    def recvData(self):\n",
    "        self.recv.transfer(self.rb)\n",
    "        data = np.zeros(self.transferSize, dtype=np.int16)\n",
    "        np.copyto(data, self.rb)\n",
    "        return data\n",
    "\n",
    "#dd = DMADemo(2**25) # sendData does not work at this size\n",
    "dd = DMADemo(2**25-1)\n"
   ]
  },
  {
   "cell_type": "markdown",
   "id": "fcb3923a-a3ff-4c19-9084-ab2cbb8ca73d",
   "metadata": {},
   "source": [
    "### Send and receive one array"
   ]
  },
  {
   "cell_type": "code",
   "execution_count": null,
   "id": "ad979959-5420-460a-8318-5987b577527e",
   "metadata": {},
   "outputs": [],
   "source": [
    "# Send one array and receive it back\n",
    "data_size = dd.transferSize\n",
    "print(\"data_size =\",data_size, \"  nBytes =\",2*data_size)\n",
    "dSend = 2*np.arange(data_size, dtype=np.int16) + 9876\n",
    "dd.sendData(dSend)\n",
    "dRecv = dd.recvData()\n",
    "# Confirm that the same numbers come back\n",
    "assert(np.array_equiv(dSend, dRecv))\n",
    "# And this is not just sharing\n",
    "dSend[0]  = 111\n",
    "assert(not np.array_equiv(dSend, dRecv))\n",
    "print(type(dRecv[0]))"
   ]
  },
  {
   "cell_type": "markdown",
   "id": "f020455b-931e-4639-98e8-c48a42de7156",
   "metadata": {},
   "source": [
    "### Send and receive multiple times"
   ]
  },
  {
   "cell_type": "code",
   "execution_count": null,
   "id": "4a5a4893-7261-42e5-b1ba-ebf8176b054e",
   "metadata": {},
   "outputs": [],
   "source": [
    "#data_size = 10000\n",
    "#dd = DMADemo(data_size)\n",
    "nSend = 10\n",
    "t0 = datetime.datetime.now()\n",
    "for iSend in range(nSend):\n",
    "    print(\".\",end=\"\")\n",
    "    dSend = (2*np.arange(data_size) + 9876*iSend).astype(np.int16)\n",
    "    #dSend = np.zeros(data_size, dtype=np.int16) - iSend\n",
    "    dd.sendData(dSend)\n",
    "    #time.sleep(0.1)\n",
    "    dRecv = dd.recvData()\n",
    "    # Confirm that the same numbers come back\n",
    "    assert(np.array_equiv(dSend, dRecv))\n",
    "    # And this is not just sharing\n",
    "    dSend[0]  = 111\n",
    "    assert(not np.array_equiv(dSend, dRecv))\n",
    "t1 = datetime.datetime.now()\n",
    "seconds = (t1-t0).total_seconds()\n",
    "print(\"\\nSuccess\", seconds)"
   ]
  },
  {
   "cell_type": "markdown",
   "id": "f4a42371-251f-4096-91b8-d026e5c5f558",
   "metadata": {},
   "source": [
    "### Estimate bandwidth"
   ]
  },
  {
   "cell_type": "code",
   "execution_count": null,
   "id": "e813ca86-a262-4784-83d4-e339f495c371",
   "metadata": {},
   "outputs": [],
   "source": [
    "nSend = 10\n",
    "t0 = datetime.datetime.now()\n",
    "for iSend in range(nSend):\n",
    "    print(\".\",end=\"\")\n",
    "    dSend = (2*np.arange(data_size) + 9876*iSend).astype(np.int16)\n",
    "    dd.sendData(dSend)\n",
    "    dRecv = dd.recvData()\n",
    "t1 = datetime.datetime.now()\n",
    "seconds = (t1-t0).total_seconds()\n",
    "print(\"\\nSuccess\", seconds)\n",
    "rate = nSend*2*data_size/seconds\n",
    "print(\"Rate = %.2e Bytes/sec\"%rate)"
   ]
  },
  {
   "cell_type": "markdown",
   "id": "6799c9d9-33be-42ae-b937-cb0330695fe5",
   "metadata": {},
   "source": [
    "### Demonstrate FIFO"
   ]
  },
  {
   "cell_type": "code",
   "execution_count": null,
   "id": "fe91713c-d1da-47ba-8572-c41b10fbe696",
   "metadata": {},
   "outputs": [],
   "source": [
    "# There is a FIFO in the block design, so you can send a few packets and they come one in order\n",
    "\n",
    "dd = DMADemo(16)\n",
    "data_size = dd.transferSize\n",
    "nSends = 100\n",
    "dSends = []\n",
    "for i in range(nSends):\n",
    "    dSend = ((i+1)*np.arange(data_size) + 9876).astype(np.int16)\n",
    "    \n",
    "    try:\n",
    "        dd.sendData(dSend)\n",
    "        dSends.append(dSend)\n",
    "    except RuntimeError:\n",
    "        nBytes = 2*(i-1)*data_size\n",
    "        print(\"nBytes=%d\"%nBytes)\n",
    "        break\n",
    "print(\"\\nlen(dSends) =\",len(dSends))    \n",
    "for i in range(len(dSends)):\n",
    "    dRecv = dd.recvData()\n",
    "    assert(np.array_equiv(dSends[i], dRecv))\n",
    "    print(i, end=\" \")\n",
    "print(\"\\nSuccess\")"
   ]
  },
  {
   "cell_type": "code",
   "execution_count": null,
   "id": "75485e36-c772-4500-8f5c-c049fda8315d",
   "metadata": {},
   "outputs": [],
   "source": []
  },
  {
   "cell_type": "code",
   "execution_count": null,
   "id": "a1359c9e-7afa-4c0a-a615-638c7c4ea04f",
   "metadata": {},
   "outputs": [],
   "source": []
  }
 ],
 "metadata": {
  "kernelspec": {
   "display_name": "Python 3",
   "language": "python",
   "name": "python3"
  },
  "language_info": {
   "codemirror_mode": {
    "name": "ipython",
    "version": 3
   },
   "file_extension": ".py",
   "mimetype": "text/x-python",
   "name": "python",
   "nbconvert_exporter": "python",
   "pygments_lexer": "ipython3",
   "version": "3.8.2"
  }
 },
 "nbformat": 4,
 "nbformat_minor": 5
}
